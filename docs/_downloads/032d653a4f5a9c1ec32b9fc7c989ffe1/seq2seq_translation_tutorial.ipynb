{
  "cells": [
    {
      "cell_type": "code",
      "execution_count": 1,
      "metadata": {
        "id": "D8zG-sY0hdU0"
      },
      "outputs": [],
      "source": [
        "# Google Colab에서 노트북을 실행하실 때에는\n",
        "# https://tutorials.pytorch.kr/beginner/colab 를 참고하세요.\n",
        "%matplotlib inline"
      ]
    },
    {
      "cell_type": "markdown",
      "metadata": {
        "id": "nBeoTRfzhdU1"
      },
      "source": [
        "기초부터 시작하는 NLP: Sequence to Sequence 네트워크와 Attention을 이용한 번역\n",
        "==============================================================================\n",
        "\n",
        "**Author**: [Sean Robertson](https://github.com/spro)\n",
        "\n",
        ":   **번역**: [황성수](https://github.com/adonisues)\n",
        "\n",
        "이 튜토리얼은 \\\"기초부터 시작하는 NLP\\\"의 세번째이자 마지막 편으로, NLP\n",
        "모델링 작업을 위한 데이터 전처리에 사용할 자체 클래스와 함수들을\n",
        "작성해보겠습니다. 이 튜토리얼을 마친 뒤에는 [torchtext]{.title-ref} 가\n",
        "어떻게 지금까지의 튜토리얼들에서의 전처리 과정을 다루는지를 이후\n",
        "튜토리얼들에서 배울 수 있습니다.\n",
        "\n",
        "이 프로젝트에서는 신경망이 불어를 영어로 번역하도록 가르칠 예정입니다.\n",
        "\n",
        "``` {.sourceCode .sh}\n",
        "[KEY: > input, = target, < output]\n",
        "\n",
        "> il est en train de peindre un tableau .\n",
        "= he is painting a picture .\n",
        "< he is painting a picture .\n",
        "\n",
        "> pourquoi ne pas essayer ce vin delicieux ?\n",
        "= why not try that delicious wine ?\n",
        "< why not try that delicious wine ?\n",
        "\n",
        "> elle n est pas poete mais romanciere .\n",
        "= she is not a poet but a novelist .\n",
        "< she not not a poet but a novelist .\n",
        "\n",
        "> vous etes trop maigre .\n",
        "= you re too skinny .\n",
        "< you re all alone .\n",
        "```\n",
        "\n",
        "\\... 성공율은 달라질 수 있습니다.\n",
        "\n",
        "하나의 시퀀스를 다른 시퀀스로 바꾸는 두 개의 RNN이 함께 동작하는\n",
        "[sequence to sequence network](https://arxiv.org/abs/1409.3215) 의\n",
        "간단하지만 강력한 아이디어가 이것(번역)을 가능하게 합니다. 인코더\n",
        "네트워크는 입력 시퀀스를 벡터로 압축하고, 디코더 네트워크는 해당 벡터를\n",
        "새로운 시퀀스로 펼칩니다.\n",
        "\n",
        "![](https://tutorials.pytorch.kr/_static/img/seq-seq-images/seq2seq.png)\n",
        "\n",
        "이 모델을 개선하기 위해 [Attention\n",
        "Mechanism](https://arxiv.org/abs/1409.0473) 을 사용하면 디코더가 입력\n",
        "시퀀스의 특정 범위에 집중할 수 있도록 합니다.\n",
        "\n",
        "**추천 자료:**\n",
        "\n",
        "최소한 Pytorch를 설치했고, Python을 알고, Tensor를 이해한다고\n",
        "가정합니다.:\n",
        "\n",
        "-   <http://pytorch.org/> 설치 안내를 위한 자료\n",
        "-   `/beginner/deep_learning_60min_blitz`{.interpreted-text role=\"doc\"}\n",
        "    일반적인 PyTorch 시작을 위한 자료\n",
        "-   `/beginner/pytorch_with_examples`{.interpreted-text role=\"doc\"} 넓고\n",
        "    깊은 통찰을 위한 자료\n",
        "-   `/beginner/former_torchies_tutorial`{.interpreted-text role=\"doc\"}\n",
        "    이전 Lua Torch 사용자를 위한 자료\n",
        "\n",
        "Sequence to Sequence 네트워크와 동작 방법에 관해서 아는 것은 유용합니다:\n",
        "\n",
        "-   [Learning Phrase Representations using RNN Encoder-Decoder for\n",
        "    Statistical Machine Translation](https://arxiv.org/abs/1406.1078)\n",
        "-   [Sequence to Sequence Learning with Neural\n",
        "    Networks](https://arxiv.org/abs/1409.3215)\n",
        "-   [Neural Machine Translation by Jointly Learning to Align and\n",
        "    Translate](https://arxiv.org/abs/1409.0473)\n",
        "-   [A Neural Conversational Model](https://arxiv.org/abs/1506.05869)\n",
        "\n",
        "이전 튜토리얼에 있는\n",
        "`/intermediate/char_rnn_classification_tutorial`{.interpreted-text\n",
        "role=\"doc\"} 와\n",
        "`/intermediate/char_rnn_generation_tutorial`{.interpreted-text\n",
        "role=\"doc\"} 는 각각 인코더, 디코더 모델과 비슷한 컨센을 가지기 때문에\n",
        "도움이 됩니다.\n",
        "\n",
        "**요구 사항**\n"
      ]
    },
    {
      "cell_type": "code",
      "execution_count": 2,
      "metadata": {
        "id": "Bih4RhF4hdU3"
      },
      "outputs": [],
      "source": [
        "from __future__ import unicode_literals, print_function, division\n",
        "from io import open\n",
        "import unicodedata\n",
        "import re\n",
        "import random\n",
        "\n",
        "import torch\n",
        "import torch.nn as nn\n",
        "from torch import optim\n",
        "import torch.nn.functional as F\n",
        "\n",
        "import numpy as np\n",
        "from torch.utils.data import TensorDataset, DataLoader, RandomSampler\n",
        "\n",
        "device = torch.device(\"cuda\" if torch.cuda.is_available() else \"cpu\")\n",
        "device"
      ]
    },
    {
      "cell_type": "markdown",
      "metadata": {
        "id": "cL66HTjbhdU3"
      },
      "source": [
        "데이터 파일 불러오기\n",
        "====================\n",
        "\n",
        "이 프로젝트의 데이터는 수천 개의 영어-프랑스어 번역 쌍입니다.\n",
        "\n",
        "[Open Data Stack\n",
        "Exchange](https://opendata.stackexchange.com/questions/3888/dataset-of-sentences-translated-into-many-languages)\n",
        "에 관한 이 질문은 <https://tatoeba.org/eng/downloads> 에서 다운 로드가\n",
        "가능한 공개 번역 사이트 <https://tatoeba.org/> 를 알려 주었습니다. 더\n",
        "나은 방법으로 언어 쌍을 개별 텍스트 파일로 분할하는 추가 작업을 수행한\n",
        "<https://www.manythings.org/anki/> 가 있습니다:\n",
        "\n",
        "영어-프랑스어 쌍이 너무 커서 저장소에 포함 할 수 없기 때문에 계속하기\n",
        "전에 `data/eng-fra.txt` 로 다운로드하십시오. 이 파일은 탭으로 구분된\n",
        "번역 쌍 목록입니다:\n",
        "\n",
        "``` {.sourceCode .sh}\n",
        "I am cold.    J'ai froid.\n",
        "```\n",
        "\n",
        "<div style=\"background-color: #54c7ec; color: #fff; font-weight: 700; padding-left: 10px; padding-top: 5px; padding-bottom: 5px\"><strong>NOTE:</strong></div>\n",
        "<div style=\"background-color: #f3f4f7; padding-left: 10px; padding-top: 10px; padding-bottom: 10px; padding-right: 10px\">\n",
        "<p><a href=\"https://download.pytorch.org/tutorial/data.zip\">여기</a>에서 데이터를 다운 받고 현재 디렉토리에 압축을 푸십시오.</p>\n",
        "</div>\n"
      ]
    },
    {
      "cell_type": "markdown",
      "metadata": {
        "id": "ipqwBk1QhdU4"
      },
      "source": [
        "문자 단위 RNN 튜토리얼에서 사용된 문자 인코딩과 유사하게, 언어의 각\n",
        "단어들을 One-Hot 벡터 또는 그 단어의 주소에만 단 하나의 1을 제외하고\n",
        "모두 0인 큰 벡터로 표현합니다. 한 가지 언어에 있는 수십 개의 문자와 달리\n",
        "번역에는 아주 많은 단어들이 있기 때문에 인코딩 벡터는 매우 더 큽니다.\n",
        "그러나 우리는 약간의 트릭를 써서 언어 당 수천 단어 만 사용하도록\n",
        "데이터를 다듬을 것입니다.\n",
        "\n",
        "![](https://tutorials.pytorch.kr/_static/img/seq-seq-images/word-encoding.png)\n"
      ]
    },
    {
      "cell_type": "markdown",
      "metadata": {
        "id": "nu1SZbQlhdU4"
      },
      "source": [
        "나중에 네트워크의 입력 및 목표로 사용하려면 단어 당 고유 번호가\n",
        "필요합니다. 이 모든 것을 추적하기 위해 우리는 단어→색인(`word2index`)과\n",
        "색인→단어(`index2word`) 사전, 그리고 나중에 희귀 단어를 대체하는데\n",
        "사용할 각 단어의 빈도 `word2count` 를 가진 `Lang` 이라는 헬퍼 클래스를\n",
        "사용합니다.\n"
      ]
    },
    {
      "cell_type": "code",
      "source": [
        "#from google.colab import drive\n",
        "#drive.mount('/content/drive')\n",
        "\n",
        "\n",
        "import os, sys\n",
        "from google.colab import drive\n",
        "#drive.mount('drive')\n",
        "drive.mount('/content/drive') #mount안에 경로를 던져준다."
      ],
      "metadata": {
        "id": "SHqIR4BXh4p2"
      },
      "execution_count": null,
      "outputs": []
    },
    {
      "cell_type": "code",
      "execution_count": 3,
      "metadata": {
        "id": "NgkdW0UPhdU4"
      },
      "outputs": [],
      "source": [
        "SOS_token = 0\n",
        "EOS_token = 1\n",
        "\n",
        "\n",
        "class Lang:\n",
        "    def __init__(self, name):\n",
        "        self.name = name\n",
        "        self.word2index = {}\n",
        "        self.word2count = {}\n",
        "        self.index2word = {0: \"SOS\", 1: \"EOS\"}\n",
        "        self.n_words = 2  # SOS 와 EOS 포함\n",
        "\n",
        "    def addSentence(self, sentence):\n",
        "        for word in sentence.split(' '):\n",
        "            self.addWord(word)\n",
        "\n",
        "    def addWord(self, word):\n",
        "        if word not in self.word2index:\n",
        "            self.word2index[word] = self.n_words\n",
        "            self.word2count[word] = 1\n",
        "            self.index2word[self.n_words] = word\n",
        "            self.n_words += 1\n",
        "        else:\n",
        "            self.word2count[word] += 1"
      ]
    },
    {
      "cell_type": "markdown",
      "metadata": {
        "id": "OZJS2lTdhdU4"
      },
      "source": [
        "파일은 모두 유니 코드로 되어있어 간단하게 하기 위해 유니 코드 문자를\n",
        "ASCII로 변환하고, 모든 문자를 소문자로 만들고, 대부분의 구두점을\n",
        "지워줍니다.\n"
      ]
    },
    {
      "cell_type": "code",
      "execution_count": 4,
      "metadata": {
        "id": "rg9fqf2yhdU5"
      },
      "outputs": [],
      "source": [
        "# 유니 코드 문자열을 일반 ASCII로 변환하십시오.\n",
        "# https://stackoverflow.com/a/518232/2809427\n",
        "def unicodeToAscii(s):\n",
        "    return ''.join(\n",
        "        c for c in unicodedata.normalize('NFD', s)\n",
        "        if unicodedata.category(c) != 'Mn'\n",
        "    )\n",
        "\n",
        "# 소문자, 다듬기, 그리고 문자가 아닌 문자 제거\n",
        "def normalizeString(s):\n",
        "    s = unicodeToAscii(s.lower().strip())\n",
        "    s = re.sub(r\"([.!?])\", r\" \\1\", s)\n",
        "    s = re.sub(r\"[^a-zA-Z!?]+\", r\" \", s)\n",
        "    return s.strip()"
      ]
    },
    {
      "cell_type": "markdown",
      "metadata": {
        "id": "AWkMtJb0hdU5"
      },
      "source": [
        "To read the data file we will split the file into lines, and then split\n",
        "lines into pairs. The files are all English → Other Language, so if we\n",
        "want to translate from Other Language → English I added the `reverse`\n",
        "flag to reverse the pairs.\n"
      ]
    },
    {
      "cell_type": "code",
      "execution_count": 5,
      "metadata": {
        "id": "umSXi2T-hdU5"
      },
      "outputs": [],
      "source": [
        "def readLangs(lang1, lang2, reverse=False):\n",
        "    print(\"Reading lines...\")\n",
        "\n",
        "    # 파일을 읽고 줄로 분리\n",
        "    lines = open('/content/drive/MyDrive/Colab Notebooks/data/%s-%s.txt' % (lang1, lang2), encoding='utf-8').\\\n",
        "        read().strip().split('\\n')\n",
        "\n",
        "    # 모든 줄을 쌍으로 분리하고 정규화\n",
        "    pairs = [[normalizeString(s) for s in l.split('\\t')] for l in lines]\n",
        "\n",
        "    # 쌍을 뒤집고, Lang 인스턴스 생성\n",
        "    if reverse:\n",
        "        pairs = [list(reversed(p)) for p in pairs]\n",
        "        input_lang = Lang(lang2)\n",
        "        output_lang = Lang(lang1)\n",
        "    else:\n",
        "        input_lang = Lang(lang1)\n",
        "        output_lang = Lang(lang2)\n",
        "\n",
        "    return input_lang, output_lang, pairs"
      ]
    },
    {
      "cell_type": "markdown",
      "metadata": {
        "id": "PGLzWAk9hdU5"
      },
      "source": [
        "*많은* 예제 문장이 있고 신속하게 학습하기를 원하기 때문에 비교적 짧고\n",
        "간단한 문장으로만 데이터 셋을 정리할 것입니다. 여기서 최대 길이는 10\n",
        "단어 (종료 문장 부호 포함)이며 \\\"I am\\\" 또는 \\\"He is\\\" 등의 형태로\n",
        "번역되는 문장으로 필터링됩니다.(이전에 아포스트로피는 대체 됨)\n"
      ]
    },
    {
      "cell_type": "code",
      "execution_count": 6,
      "metadata": {
        "id": "Jfur_bjLhdU5"
      },
      "outputs": [],
      "source": [
        "MAX_LENGTH = 10\n",
        "\n",
        "eng_prefixes = (\n",
        "    \"i am \", \"i m \",\n",
        "    \"he is\", \"he s \",\n",
        "    \"she is\", \"she s \",\n",
        "    \"you are\", \"you re \",\n",
        "    \"we are\", \"we re \",\n",
        "    \"they are\", \"they re \"\n",
        ")\n",
        "\n",
        "def filterPair(p):\n",
        "    return len(p[0].split(' ')) < MAX_LENGTH and \\\n",
        "        len(p[1].split(' ')) < MAX_LENGTH and \\\n",
        "        p[1].startswith(eng_prefixes)\n",
        "\n",
        "\n",
        "def filterPairs(pairs):\n",
        "    return [pair for pair in pairs if filterPair(pair)]"
      ]
    },
    {
      "cell_type": "markdown",
      "metadata": {
        "id": "Whk0t5IBhdU6"
      },
      "source": [
        "데이터 준비를 위한 전체 과정:\n",
        "\n",
        "-   텍스트 파일을 읽고 줄로 분리하고, 줄을 쌍으로 분리합니다.\n",
        "-   텍스트를 정규화 하고 길이와 내용으로 필터링 합니다.\n",
        "-   쌍을 이룬 문장들로 단어 리스트를 생성합니다.\n"
      ]
    },
    {
      "cell_type": "code",
      "execution_count": 7,
      "metadata": {
        "id": "XR_ILAY_hdU6",
        "outputId": "22376dd1-0337-4bb6-92de-8c9eb27770ff",
        "colab": {
          "base_uri": "https://localhost:8080/",
          "height": 379
        }
      },
      "outputs": [
        {
          "output_type": "stream",
          "name": "stdout",
          "text": [
            "Reading lines...\n"
          ]
        },
        {
          "output_type": "error",
          "ename": "FileNotFoundError",
          "evalue": "[Errno 2] No such file or directory: 'data/eng-fra.txt'",
          "traceback": [
            "\u001b[0;31m---------------------------------------------------------------------------\u001b[0m",
            "\u001b[0;31mFileNotFoundError\u001b[0m                         Traceback (most recent call last)",
            "\u001b[0;32m<ipython-input-7-687c2ca1db52>\u001b[0m in \u001b[0;36m<cell line: 0>\u001b[0;34m()\u001b[0m\n\u001b[1;32m     14\u001b[0m \u001b[0;34m\u001b[0m\u001b[0m\n\u001b[1;32m     15\u001b[0m \u001b[0;34m\u001b[0m\u001b[0m\n\u001b[0;32m---> 16\u001b[0;31m \u001b[0minput_lang\u001b[0m\u001b[0;34m,\u001b[0m \u001b[0moutput_lang\u001b[0m\u001b[0;34m,\u001b[0m \u001b[0mpairs\u001b[0m \u001b[0;34m=\u001b[0m \u001b[0mprepareData\u001b[0m\u001b[0;34m(\u001b[0m\u001b[0;34m'eng'\u001b[0m\u001b[0;34m,\u001b[0m \u001b[0;34m'fra'\u001b[0m\u001b[0;34m,\u001b[0m \u001b[0;32mTrue\u001b[0m\u001b[0;34m)\u001b[0m\u001b[0;34m\u001b[0m\u001b[0;34m\u001b[0m\u001b[0m\n\u001b[0m\u001b[1;32m     17\u001b[0m \u001b[0mprint\u001b[0m\u001b[0;34m(\u001b[0m\u001b[0mrandom\u001b[0m\u001b[0;34m.\u001b[0m\u001b[0mchoice\u001b[0m\u001b[0;34m(\u001b[0m\u001b[0mpairs\u001b[0m\u001b[0;34m)\u001b[0m\u001b[0;34m)\u001b[0m\u001b[0;34m\u001b[0m\u001b[0;34m\u001b[0m\u001b[0m\n",
            "\u001b[0;32m<ipython-input-7-687c2ca1db52>\u001b[0m in \u001b[0;36mprepareData\u001b[0;34m(lang1, lang2, reverse)\u001b[0m\n\u001b[1;32m      1\u001b[0m \u001b[0;32mdef\u001b[0m \u001b[0mprepareData\u001b[0m\u001b[0;34m(\u001b[0m\u001b[0mlang1\u001b[0m\u001b[0;34m,\u001b[0m \u001b[0mlang2\u001b[0m\u001b[0;34m,\u001b[0m \u001b[0mreverse\u001b[0m\u001b[0;34m=\u001b[0m\u001b[0;32mFalse\u001b[0m\u001b[0;34m)\u001b[0m\u001b[0;34m:\u001b[0m\u001b[0;34m\u001b[0m\u001b[0;34m\u001b[0m\u001b[0m\n\u001b[0;32m----> 2\u001b[0;31m     \u001b[0minput_lang\u001b[0m\u001b[0;34m,\u001b[0m \u001b[0moutput_lang\u001b[0m\u001b[0;34m,\u001b[0m \u001b[0mpairs\u001b[0m \u001b[0;34m=\u001b[0m \u001b[0mreadLangs\u001b[0m\u001b[0;34m(\u001b[0m\u001b[0mlang1\u001b[0m\u001b[0;34m,\u001b[0m \u001b[0mlang2\u001b[0m\u001b[0;34m,\u001b[0m \u001b[0mreverse\u001b[0m\u001b[0;34m)\u001b[0m\u001b[0;34m\u001b[0m\u001b[0;34m\u001b[0m\u001b[0m\n\u001b[0m\u001b[1;32m      3\u001b[0m     \u001b[0mprint\u001b[0m\u001b[0;34m(\u001b[0m\u001b[0;34m\"Read %s sentence pairs\"\u001b[0m \u001b[0;34m%\u001b[0m \u001b[0mlen\u001b[0m\u001b[0;34m(\u001b[0m\u001b[0mpairs\u001b[0m\u001b[0;34m)\u001b[0m\u001b[0;34m)\u001b[0m\u001b[0;34m\u001b[0m\u001b[0;34m\u001b[0m\u001b[0m\n\u001b[1;32m      4\u001b[0m     \u001b[0mpairs\u001b[0m \u001b[0;34m=\u001b[0m \u001b[0mfilterPairs\u001b[0m\u001b[0;34m(\u001b[0m\u001b[0mpairs\u001b[0m\u001b[0;34m)\u001b[0m\u001b[0;34m\u001b[0m\u001b[0;34m\u001b[0m\u001b[0m\n\u001b[1;32m      5\u001b[0m     \u001b[0mprint\u001b[0m\u001b[0;34m(\u001b[0m\u001b[0;34m\"Trimmed to %s sentence pairs\"\u001b[0m \u001b[0;34m%\u001b[0m \u001b[0mlen\u001b[0m\u001b[0;34m(\u001b[0m\u001b[0mpairs\u001b[0m\u001b[0;34m)\u001b[0m\u001b[0;34m)\u001b[0m\u001b[0;34m\u001b[0m\u001b[0;34m\u001b[0m\u001b[0m\n",
            "\u001b[0;32m<ipython-input-5-d00469c72c9b>\u001b[0m in \u001b[0;36mreadLangs\u001b[0;34m(lang1, lang2, reverse)\u001b[0m\n\u001b[1;32m      3\u001b[0m \u001b[0;34m\u001b[0m\u001b[0m\n\u001b[1;32m      4\u001b[0m     \u001b[0;31m# 파일을 읽고 줄로 분리\u001b[0m\u001b[0;34m\u001b[0m\u001b[0;34m\u001b[0m\u001b[0m\n\u001b[0;32m----> 5\u001b[0;31m     \u001b[0mlines\u001b[0m \u001b[0;34m=\u001b[0m \u001b[0mopen\u001b[0m\u001b[0;34m(\u001b[0m\u001b[0;34m'data/%s-%s.txt'\u001b[0m \u001b[0;34m%\u001b[0m \u001b[0;34m(\u001b[0m\u001b[0mlang1\u001b[0m\u001b[0;34m,\u001b[0m \u001b[0mlang2\u001b[0m\u001b[0;34m)\u001b[0m\u001b[0;34m,\u001b[0m \u001b[0mencoding\u001b[0m\u001b[0;34m=\u001b[0m\u001b[0;34m'utf-8'\u001b[0m\u001b[0;34m)\u001b[0m\u001b[0;34m.\u001b[0m\u001b[0;31m\\\u001b[0m\u001b[0;34m\u001b[0m\u001b[0;34m\u001b[0m\u001b[0m\n\u001b[0m\u001b[1;32m      6\u001b[0m         \u001b[0mread\u001b[0m\u001b[0;34m(\u001b[0m\u001b[0;34m)\u001b[0m\u001b[0;34m.\u001b[0m\u001b[0mstrip\u001b[0m\u001b[0;34m(\u001b[0m\u001b[0;34m)\u001b[0m\u001b[0;34m.\u001b[0m\u001b[0msplit\u001b[0m\u001b[0;34m(\u001b[0m\u001b[0;34m'\\n'\u001b[0m\u001b[0;34m)\u001b[0m\u001b[0;34m\u001b[0m\u001b[0;34m\u001b[0m\u001b[0m\n\u001b[1;32m      7\u001b[0m \u001b[0;34m\u001b[0m\u001b[0m\n",
            "\u001b[0;31mFileNotFoundError\u001b[0m: [Errno 2] No such file or directory: 'data/eng-fra.txt'"
          ]
        }
      ],
      "source": [
        "def prepareData(lang1, lang2, reverse=False):\n",
        "    input_lang, output_lang, pairs = readLangs(lang1, lang2, reverse)\n",
        "    print(\"Read %s sentence pairs\" % len(pairs))\n",
        "    pairs = filterPairs(pairs)\n",
        "    print(\"Trimmed to %s sentence pairs\" % len(pairs))\n",
        "    print(\"Counting words...\")\n",
        "    for pair in pairs:\n",
        "        input_lang.addSentence(pair[0])\n",
        "        output_lang.addSentence(pair[1])\n",
        "    print(\"Counted words:\")\n",
        "    print(input_lang.name, input_lang.n_words)\n",
        "    print(output_lang.name, output_lang.n_words)\n",
        "    return input_lang, output_lang, pairs\n",
        "\n",
        "\n",
        "input_lang, output_lang, pairs = prepareData('eng', 'fra', True)\n",
        "print(random.choice(pairs))"
      ]
    },
    {
      "cell_type": "markdown",
      "metadata": {
        "id": "04tZfrxnhdU6"
      },
      "source": [
        "Seq2Seq 모델\n",
        "============\n",
        "\n",
        "Recurrent Neural Network(RNN)는 시퀀스에서 작동하고 다음 단계의 입력으로\n",
        "자신의 출력을 사용하는 네트워크입니다.\n",
        "\n",
        "[Sequence to Sequence network](https://arxiv.org/abs/1409.3215), 또는\n",
        "Seq2Seq 네트워크, 또는 [Encoder Decoder\n",
        "network](https://arxiv.org/pdf/1406.1078v3.pdf) 는 인코더 및 디코더라고\n",
        "하는 두 개의 RNN으로 구성된 모델입니다. 인코더는 입력 시퀀스를 읽고 단일\n",
        "벡터를 출력하고, 디코더는 해당 벡터를 읽어 출력 시퀀스를 생성합니다.\n",
        "\n",
        "![](https://tutorials.pytorch.kr/_static/img/seq-seq-images/seq2seq.png)\n",
        "\n",
        "모든 입력에 해당하는 출력이 있는 단일 RNN의 시퀀스 예측과 달리 Seq2Seq\n",
        "모델은 시퀀스 길이와 순서를 자유롭게하기 때문에 두 언어 사이의 번역에\n",
        "이상적입니다.\n",
        "\n",
        "다음 문장 `Je ne suis pas le chat noir` → `I am not the black cat` 를\n",
        "살펴 봅시다. 입력 문장의 단어 대부분은 출력 문장에서 직역(`chat noir` 와\n",
        "`black cat`)되지만 약간 다른 순서도 있습니다. `ne/pas` 구조로 인해 입력\n",
        "문장에 단어가 하나 더 있습니다. 입력 단어의 시퀀스를 직역해서 정확한\n",
        "번역을 만드는 것은 어려울 것입니다.\n",
        "\n",
        "Seq2Seq 모델을 사용하면 인코더는 하나의 벡터를 생성합니다. 이상적인\n",
        "경우에 입력 시퀀스의 \\\"의미\\\"를 문장의 N 차원 공간에 있는 단일 지점인\n",
        "단일 벡터으로 인코딩합니다.\n"
      ]
    },
    {
      "cell_type": "markdown",
      "metadata": {
        "id": "VNjjzT9uhdU6"
      },
      "source": [
        "인코더\n",
        "======\n",
        "\n",
        "Seq2Seq 네트워크의 인코더는 입력 문장의 모든 단어에 대해 어떤 값을\n",
        "출력하는 RNN입니다. 모든 입력 단어에 대해 인코더는 벡터와 은닉 상태를\n",
        "출력하고 다음 입력 단어를 위해 그 은닉 상태를 사용합니다.\n",
        "\n",
        "![](https://tutorials.pytorch.kr/_static/img/seq-seq-images/encoder-network.png)\n"
      ]
    },
    {
      "cell_type": "code",
      "execution_count": null,
      "metadata": {
        "id": "rTofKjb9hdU6"
      },
      "outputs": [],
      "source": [
        "class EncoderRNN(nn.Module):\n",
        "    def __init__(self, input_size, hidden_size, dropout_p=0.1):\n",
        "        super(EncoderRNN, self).__init__()\n",
        "        self.hidden_size = hidden_size\n",
        "\n",
        "        self.embedding = nn.Embedding(input_size, hidden_size)\n",
        "        self.gru = nn.GRU(hidden_size, hidden_size, batch_first=True)\n",
        "        self.dropout = nn.Dropout(dropout_p)\n",
        "\n",
        "    def forward(self, input):\n",
        "        embedded = self.dropout(self.embedding(input))\n",
        "        output, hidden = self.gru(embedded)\n",
        "        return output, hidden"
      ]
    },
    {
      "cell_type": "markdown",
      "metadata": {
        "id": "jjkT6827hdU6"
      },
      "source": [
        "디코더\n",
        "======\n",
        "\n",
        "디코더는 인코더 출력 벡터를 받아서 번역을 생성하기 위한 단어 시퀀스를\n",
        "출력합니다.\n"
      ]
    },
    {
      "cell_type": "markdown",
      "metadata": {
        "id": "aYqITZVFhdU6"
      },
      "source": [
        "간단한 디코더\n",
        "=============\n",
        "\n",
        "가장 간단한 Seq2Seq 디코더는 인코더의 마지막 출력만을 이용합니다. 이\n",
        "마지막 출력은 전체 시퀀스에서 문맥을 인코드하기 때문에 *문맥\n",
        "벡터(context vector)* 로 불립니다. 이 문맥 벡터는 디코더의 초기 은닉\n",
        "상태로 사용 됩니다.\n",
        "\n",
        "디코딩의 매 단계에서 디코더에게 입력 토큰과 은닉 상태가 주어집니다. 초기\n",
        "입력 토큰은 문자열-시작 (start-of-string) `<SOS>` 토큰이고, 첫 은닉\n",
        "상태는 문맥 벡터(인코더의 마지막 은닉 상태) 입니다.\n",
        "\n",
        "![](https://tutorials.pytorch.kr/_static/img/seq-seq-images/decoder-network.png)\n"
      ]
    },
    {
      "cell_type": "code",
      "execution_count": null,
      "metadata": {
        "id": "yyF7tQO3hdU7"
      },
      "outputs": [],
      "source": [
        "class DecoderRNN(nn.Module):\n",
        "    def __init__(self, hidden_size, output_size):\n",
        "        super(DecoderRNN, self).__init__()\n",
        "        self.embedding = nn.Embedding(output_size, hidden_size)\n",
        "        self.gru = nn.GRU(hidden_size, hidden_size, batch_first=True)\n",
        "        self.out = nn.Linear(hidden_size, output_size)\n",
        "\n",
        "    def forward(self, encoder_outputs, encoder_hidden, target_tensor=None):\n",
        "        batch_size = encoder_outputs.size(0)\n",
        "        decoder_input = torch.empty(batch_size, 1, dtype=torch.long, device=device).fill_(SOS_token)\n",
        "        decoder_hidden = encoder_hidden\n",
        "        decoder_outputs = []\n",
        "\n",
        "        for i in range(MAX_LENGTH):\n",
        "            decoder_output, decoder_hidden  = self.forward_step(decoder_input, decoder_hidden)\n",
        "            decoder_outputs.append(decoder_output)\n",
        "\n",
        "            if target_tensor is not None:\n",
        "                # Teacher forcing 포함: 목표를 다음 입력으로 전달\n",
        "                decoder_input = target_tensor[:, i].unsqueeze(1) # Teacher forcing\n",
        "            else:\n",
        "                # Teacher forcing 미포함: 자신의 예측을 다음 입력으로 사용\n",
        "                _, topi = decoder_output.topk(1)\n",
        "                decoder_input = topi.squeeze(-1).detach()  # 입력으로 사용할 부분을 히스토리에서 분리\n",
        "\n",
        "        decoder_outputs = torch.cat(decoder_outputs, dim=1)\n",
        "        decoder_outputs = F.log_softmax(decoder_outputs, dim=-1)\n",
        "        return decoder_outputs, decoder_hidden, None   # 학습 루프의 일관성 유지를 위해 `None` 을 추가로 반환\n",
        "\n",
        "    def forward_step(self, input, hidden):\n",
        "        output = self.embedding(input)\n",
        "        output = F.relu(output)\n",
        "        output, hidden = self.gru(output, hidden)\n",
        "        output = self.out(output)\n",
        "        return output, hidden"
      ]
    },
    {
      "cell_type": "markdown",
      "metadata": {
        "id": "VALibLxohdU7"
      },
      "source": [
        "이 모델의 결과를 학습하고 관찰하는 것을 권장하지만, 공간을 절약하기 위해\n",
        "최종 목적지로 바로 이동해서 Attention 메커니즘을 소개 할 것입니다.\n"
      ]
    },
    {
      "cell_type": "markdown",
      "metadata": {
        "id": "O-jsQlZ7hdU7"
      },
      "source": [
        "Attention 디코더\n",
        "================\n",
        "\n",
        "문맥 벡터만 인코더와 디코더 사이로 전달 된다면, 단일 벡터가 전체 문장을\n",
        "인코딩 해야하는 부담을 가지게 됩니다.\n",
        "\n",
        "Attention은 디코더 네트워크가 자기 출력의 모든 단계에서 인코더 출력의\n",
        "다른 부분에 \\\"집중\\\" 할 수 있게 합니다. 첫째 *Attention 가중치* 의\n",
        "세트를 계산합니다. 이것은 가중치 조합을 만들기 위해서 인코더 출력 벡터와\n",
        "곱해집니다. 그 결과(코드에서 `attn_applied`)는 입력 시퀀스의 특정 부분에\n",
        "관한 정보를 포함해야하고 따라서 디코더가 알맞은 출력 단어를 선택하는\n",
        "것을 도와줍니다.\n",
        "\n",
        "![](https://i.imgur.com/1152PYf.png)\n",
        "\n",
        "어텐션 가중치 계산은 디코더의 입력 및 은닉 상태를 입력으로 사용하는 다른\n",
        "feed-forwad 계층인 `attn` 으로 수행됩니다. 학습 데이터에는 모든 크기의\n",
        "문장이 있기 때문에 이 계층을 실제로 만들고 학습시키려면 적용 할 수 있는\n",
        "최대 문장 길이 (인코더 출력을 위한 입력 길이)를 선택해야 합니다. 최대\n",
        "길이의 문장은 모든 Attention 가중치를 사용하지만 더 짧은 문장은 처음 몇\n",
        "개만 사용합니다.\n",
        "\n",
        "![](https://tutorials.pytorch.kr/_static/img/seq-seq-images/attention-decoder-network.png)\n",
        "\n",
        "부가적 어텐션(Additive Attention)이라고도 알려진 바다나우\n",
        "어텐션(Bahdanau Attention)은 기계 번역 작업과 같은 시퀀스-투-시퀀스\n",
        "모델에서 일반적으로 사용하는 어텐션 기법(mechanism)입니다. 이 어텐션\n",
        "기법은 Bahdanau et al.의 논문인 [Neural Machine Translation by Jointly\n",
        "Learning to Align and Translate](https://arxiv.org/pdf/1409.0473.pdf)\n",
        "에서 소개되었습니다. 이 어텐션 기법은 학습된 정렬 모델(learned alignment\n",
        "model)을 사용하여 인코더와 디코더의 은닉 상태(hidden state) 간의 어텐션\n",
        "점수를 계산합니다. 이는 정렬된 어텐션 점수를 계산하기 위해 feed-forward\n",
        "신경망을 사용합니다.\n",
        "\n",
        "또는, 디코더의 은닉 상태와 인코더의 은닉 상태 사이의 어텐션 점수를\n",
        "Dot-Product로 계산하는 루옹 어텐션(Luong Attention)과 같은 다른 어텐션\n",
        "기법들을 사용할 수도 있습니다. 이는 바다나우 어텐션(Bahdanau\n",
        "Attention)에서 사용하는 비선형 변환(non-linear transformation)을\n",
        "사용하지는 않습니다.\n",
        "\n",
        "이 튜토리얼에서는 바다나우 어텐션(Bahdanau Attention)을 사용할 것입니다.\n",
        "하지만 이를 루옹 어텐션(Luong Attention) 기법으로 변경해보는 것도 좋은\n",
        "연습이 될 것입니다.\n"
      ]
    },
    {
      "cell_type": "code",
      "execution_count": null,
      "metadata": {
        "id": "KlrHfecVhdU7"
      },
      "outputs": [],
      "source": [
        "class BahdanauAttention(nn.Module):\n",
        "    def __init__(self, hidden_size):\n",
        "        super(BahdanauAttention, self).__init__()\n",
        "        self.Wa = nn.Linear(hidden_size, hidden_size)\n",
        "        self.Ua = nn.Linear(hidden_size, hidden_size)\n",
        "        self.Va = nn.Linear(hidden_size, 1)\n",
        "\n",
        "    def forward(self, query, keys):\n",
        "        scores = self.Va(torch.tanh(self.Wa(query) + self.Ua(keys)))\n",
        "        scores = scores.squeeze(2).unsqueeze(1)\n",
        "\n",
        "        weights = F.softmax(scores, dim=-1)\n",
        "        context = torch.bmm(weights, keys)\n",
        "\n",
        "        return context, weights\n",
        "\n",
        "class AttnDecoderRNN(nn.Module):\n",
        "    def __init__(self, hidden_size, output_size, dropout_p=0.1):\n",
        "        super(AttnDecoderRNN, self).__init__()\n",
        "        self.embedding = nn.Embedding(output_size, hidden_size)\n",
        "        self.attention = BahdanauAttention(hidden_size)\n",
        "        self.gru = nn.GRU(2 * hidden_size, hidden_size, batch_first=True)\n",
        "        self.out = nn.Linear(hidden_size, output_size)\n",
        "        self.dropout = nn.Dropout(dropout_p)\n",
        "\n",
        "    def forward(self, encoder_outputs, encoder_hidden, target_tensor=None):\n",
        "        batch_size = encoder_outputs.size(0)\n",
        "        decoder_input = torch.empty(batch_size, 1, dtype=torch.long, device=device).fill_(SOS_token)\n",
        "        decoder_hidden = encoder_hidden\n",
        "        decoder_outputs = []\n",
        "        attentions = []\n",
        "\n",
        "        for i in range(MAX_LENGTH):\n",
        "            decoder_output, decoder_hidden, attn_weights = self.forward_step(\n",
        "                decoder_input, decoder_hidden, encoder_outputs\n",
        "            )\n",
        "            decoder_outputs.append(decoder_output)\n",
        "            attentions.append(attn_weights)\n",
        "\n",
        "            if target_tensor is not None:\n",
        "                # Teacher forcing 포함: 목표를 다음 입력으로 전달\n",
        "                decoder_input = target_tensor[:, i].unsqueeze(1) # Teacher forcing\n",
        "            else:\n",
        "                # Teacher forcing 미포함: 자신의 예측을 다음 입력으로 사용\n",
        "                _, topi = decoder_output.topk(1)\n",
        "                decoder_input = topi.squeeze(-1).detach()  # 입력으로 사용할 부분을 히스토리에서 분리\n",
        "\n",
        "        decoder_outputs = torch.cat(decoder_outputs, dim=1)\n",
        "        decoder_outputs = F.log_softmax(decoder_outputs, dim=-1)\n",
        "        attentions = torch.cat(attentions, dim=1)\n",
        "\n",
        "        return decoder_outputs, decoder_hidden, attentions\n",
        "\n",
        "\n",
        "    def forward_step(self, input, hidden, encoder_outputs):\n",
        "        embedded =  self.dropout(self.embedding(input))\n",
        "\n",
        "        query = hidden.permute(1, 0, 2)\n",
        "        context, attn_weights = self.attention(query, encoder_outputs)\n",
        "        input_gru = torch.cat((embedded, context), dim=2)\n",
        "\n",
        "        output, hidden = self.gru(input_gru, hidden)\n",
        "        output = self.out(output)\n",
        "\n",
        "        return output, hidden, attn_weights"
      ]
    },
    {
      "cell_type": "markdown",
      "metadata": {
        "id": "LsURz5ubhdU7"
      },
      "source": [
        "<div style=\"background-color: #54c7ec; color: #fff; font-weight: 700; padding-left: 10px; padding-top: 5px; padding-bottom: 5px\"><strong>NOTE:</strong></div>\n",
        "<div style=\"background-color: #f3f4f7; padding-left: 10px; padding-top: 10px; padding-bottom: 10px; padding-right: 10px\">\n",
        "<p>길이 제한을 해결하기 위해 상대적 위치 접근(relative position approach)방식을 사용하는 다른 형태의 어텐션 방식들도 있습니다.<a href=\"https://arxiv.org/abs/1508.04025\">Effective Approaches to Attention-based Neural Machine Translation</a>에서 \"local attention\" 에 대해 읽어보세요.</p>\n",
        "</div>\n",
        "\n",
        "학습\n",
        "====\n",
        "\n",
        "학습 데이터 준비\n",
        "----------------\n",
        "\n",
        "학습을 위해서, 각 쌍마다 입력 Tensor(입력 문장의 단어 주소)와 목표\n",
        "Tensor(목표 문장의 단어 주소)가 필요합니다. 이 벡터들을 생성하는 동안 두\n",
        "시퀀스에 EOS 토큰을 추가 합니다.\n"
      ]
    },
    {
      "cell_type": "code",
      "execution_count": null,
      "metadata": {
        "id": "MbwQb-xThdU8"
      },
      "outputs": [],
      "source": [
        "def indexesFromSentence(lang, sentence):\n",
        "    return [lang.word2index[word] for word in sentence.split(' ')]\n",
        "\n",
        "def tensorFromSentence(lang, sentence):\n",
        "    indexes = indexesFromSentence(lang, sentence)\n",
        "    indexes.append(EOS_token)\n",
        "    return torch.tensor(indexes, dtype=torch.long, device=device).view(1, -1)\n",
        "\n",
        "def tensorsFromPair(pair):\n",
        "    input_tensor = tensorFromSentence(input_lang, pair[0])\n",
        "    target_tensor = tensorFromSentence(output_lang, pair[1])\n",
        "    return (input_tensor, target_tensor)\n",
        "\n",
        "def get_dataloader(batch_size):\n",
        "    input_lang, output_lang, pairs = prepareData('eng', 'fra', True)\n",
        "\n",
        "    n = len(pairs)\n",
        "    input_ids = np.zeros((n, MAX_LENGTH), dtype=np.int32)\n",
        "    target_ids = np.zeros((n, MAX_LENGTH), dtype=np.int32)\n",
        "\n",
        "    for idx, (inp, tgt) in enumerate(pairs):\n",
        "        inp_ids = indexesFromSentence(input_lang, inp)\n",
        "        tgt_ids = indexesFromSentence(output_lang, tgt)\n",
        "        inp_ids.append(EOS_token)\n",
        "        tgt_ids.append(EOS_token)\n",
        "        input_ids[idx, :len(inp_ids)] = inp_ids\n",
        "        target_ids[idx, :len(tgt_ids)] = tgt_ids\n",
        "\n",
        "    train_data = TensorDataset(torch.LongTensor(input_ids).to(device),\n",
        "                               torch.LongTensor(target_ids).to(device))\n",
        "\n",
        "    train_sampler = RandomSampler(train_data)\n",
        "    train_dataloader = DataLoader(train_data, sampler=train_sampler, batch_size=batch_size)\n",
        "    return input_lang, output_lang, train_dataloader"
      ]
    },
    {
      "cell_type": "markdown",
      "metadata": {
        "id": "et8d_Y2DhdU8"
      },
      "source": [
        "모델 학습\n",
        "=========\n",
        "\n",
        "학습을 위해서 인코더에 입력 문장을 넣고 모든 출력과 최신 은닉 상태를\n",
        "추적합니다. 그런 다음 디코더에 첫 번째 입력으로 `<SOS>` 토큰과 인코더의\n",
        "마지막 은닉 상태가 첫 번째 은닉 상태로 제공됩니다.\n",
        "\n",
        "\\\"Teacher forcing\\\"은 다음 입력으로 디코더의 예측을 사용하는 대신 실제\n",
        "목표 출력을 다음 입력으로 사용하는 컨셉입니다. \\\"Teacher forcing\\\"을\n",
        "사용하면 수렴이 빨리되지만 [학습된 네트워크가 잘못 사용될 때 불안정성을\n",
        "보입니다.](http://citeseerx.ist.psu.edu/viewdoc/download?doi=10.1.1.378.4095&rep=rep1&type=pdf).\n",
        "\n",
        "Teacher-forced 네트워크의 출력이 일관된 문법으로 읽지만 정확한 번역과는\n",
        "거리가 멀다는 것을 볼 수 있습니다. 직관적으로 출력 문법을 표현하는 법을\n",
        "배우고 교사가 처음 몇 단어를 말하면 의미를 \\\"선택\\\" 할 수 있지만,\n",
        "번역에서 처음으로 문장을 만드는 법은 잘 배우지 못합니다.\n",
        "\n",
        "PyTorch의 autograd 가 제공하는 자유 덕분에 간단한 If 문으로 Teacher\n",
        "Forcing을 사용할지 아니면 사용하지 않을지를 선택할 수 있습니다. 더 많이\n",
        "사용하려면 `teacher_forcing_ratio` 를 확인하십시오.\n"
      ]
    },
    {
      "cell_type": "code",
      "execution_count": null,
      "metadata": {
        "id": "X4TZO5AahdU8"
      },
      "outputs": [],
      "source": [
        "def train_epoch(dataloader, encoder, decoder, encoder_optimizer,\n",
        "          decoder_optimizer, criterion):\n",
        "\n",
        "    total_loss = 0\n",
        "    for data in dataloader:\n",
        "        input_tensor, target_tensor = data\n",
        "\n",
        "        encoder_optimizer.zero_grad()\n",
        "        decoder_optimizer.zero_grad()\n",
        "\n",
        "        encoder_outputs, encoder_hidden = encoder(input_tensor)\n",
        "        decoder_outputs, _, _ = decoder(encoder_outputs, encoder_hidden, target_tensor)\n",
        "\n",
        "        loss = criterion(\n",
        "            decoder_outputs.view(-1, decoder_outputs.size(-1)),\n",
        "            target_tensor.view(-1)\n",
        "        )\n",
        "        loss.backward()\n",
        "\n",
        "        encoder_optimizer.step()\n",
        "        decoder_optimizer.step()\n",
        "\n",
        "        total_loss += loss.item()\n",
        "\n",
        "    return total_loss / len(dataloader)"
      ]
    },
    {
      "cell_type": "markdown",
      "metadata": {
        "id": "A2Wp9MWlhdU8"
      },
      "source": [
        "이것은 현재 시간과 진행률%을 고려해 경과된 시간과 남은 예상 시간을\n",
        "출력하는 헬퍼 함수입니다.\n"
      ]
    },
    {
      "cell_type": "code",
      "execution_count": null,
      "metadata": {
        "id": "lIdRs7RphdU8"
      },
      "outputs": [],
      "source": [
        "import time\n",
        "import math\n",
        "\n",
        "def asMinutes(s):\n",
        "    m = math.floor(s / 60)\n",
        "    s -= m * 60\n",
        "    return '%dm %ds' % (m, s)\n",
        "\n",
        "def timeSince(since, percent):\n",
        "    now = time.time()\n",
        "    s = now - since\n",
        "    es = s / (percent)\n",
        "    rs = es - s\n",
        "    return '%s (- %s)' % (asMinutes(s), asMinutes(rs))"
      ]
    },
    {
      "cell_type": "markdown",
      "metadata": {
        "id": "7YyP7vHzhdU8"
      },
      "source": [
        "전체 학습 과정은 다음과 같습니다:\n",
        "\n",
        "-   타이머 시작\n",
        "-   optimizers와 criterion 초기화\n",
        "-   학습 쌍의 세트 생성\n",
        "-   도식화를 위한 빈 손실 배열 시작\n",
        "\n",
        "그런 다음 우리는 여러 번 `train` 을 호출하며 때로는 진행률 (예제의 %,\n",
        "현재까지의 예상 시간)과 평균 손실을 출력합니다.\n"
      ]
    },
    {
      "cell_type": "code",
      "execution_count": null,
      "metadata": {
        "id": "Q-bAFaDPhdU8"
      },
      "outputs": [],
      "source": [
        "def train(train_dataloader, encoder, decoder, n_epochs, learning_rate=0.001,\n",
        "               print_every=100, plot_every=100):\n",
        "    start = time.time()\n",
        "    plot_losses = []\n",
        "    print_loss_total = 0  # Reset every print_every\n",
        "    plot_loss_total = 0  # Reset every plot_every\n",
        "\n",
        "    encoder_optimizer = optim.Adam(encoder.parameters(), lr=learning_rate)\n",
        "    decoder_optimizer = optim.Adam(decoder.parameters(), lr=learning_rate)\n",
        "    criterion = nn.NLLLoss()\n",
        "\n",
        "    for epoch in range(1, n_epochs + 1):\n",
        "        loss = train_epoch(train_dataloader, encoder, decoder, encoder_optimizer, decoder_optimizer, criterion)\n",
        "        print_loss_total += loss\n",
        "        plot_loss_total += loss\n",
        "\n",
        "        if epoch % print_every == 0:\n",
        "            print_loss_avg = print_loss_total / print_every\n",
        "            print_loss_total = 0\n",
        "            print('%s (%d %d%%) %.4f' % (timeSince(start, epoch / n_epochs),\n",
        "                                        epoch, epoch / n_epochs * 100, print_loss_avg))\n",
        "\n",
        "        if epoch % plot_every == 0:\n",
        "            plot_loss_avg = plot_loss_total / plot_every\n",
        "            plot_losses.append(plot_loss_avg)\n",
        "            plot_loss_total = 0\n",
        "\n",
        "    showPlot(plot_losses)"
      ]
    },
    {
      "cell_type": "markdown",
      "metadata": {
        "id": "11wkOH-chdU9"
      },
      "source": [
        "결과 도식화\n",
        "===========\n",
        "\n",
        "matplotlib로 학습 중에 저장된 손실 값 `plot_losses` 의 배열을 사용하여\n",
        "도식화합니다.\n"
      ]
    },
    {
      "cell_type": "code",
      "execution_count": null,
      "metadata": {
        "id": "i5BmHSr3hdU9"
      },
      "outputs": [],
      "source": [
        "import matplotlib.pyplot as plt\n",
        "plt.switch_backend('agg')\n",
        "import matplotlib.ticker as ticker\n",
        "import numpy as np\n",
        "\n",
        "def showPlot(points):\n",
        "    plt.figure()\n",
        "    fig, ax = plt.subplots()\n",
        "    # 주기적인 간격으로 이 locator가 tick을 설정\n",
        "    loc = ticker.MultipleLocator(base=0.2)\n",
        "    ax.yaxis.set_major_locator(loc)\n",
        "    plt.plot(points)"
      ]
    },
    {
      "cell_type": "markdown",
      "metadata": {
        "id": "CHC48NJGhdU9"
      },
      "source": [
        "평가\n",
        "====\n",
        "\n",
        "평가는 대부분 학습과 동일하지만 목표가 없으므로 각 단계마다 디코더의\n",
        "예측을 되돌려 전달합니다. 단어를 예측할 때마다 그 단어를 출력 문자열에\n",
        "추가합니다. 만약 EOS 토큰을 예측하면 거기에서 멈춥니다. 나중에 도식화를\n",
        "위해서 디코더의 Attention 출력을 저장합니다.\n"
      ]
    },
    {
      "cell_type": "code",
      "execution_count": null,
      "metadata": {
        "id": "in70tlGqhdU9"
      },
      "outputs": [],
      "source": [
        "def evaluate(encoder, decoder, sentence, input_lang, output_lang):\n",
        "    with torch.no_grad():\n",
        "        input_tensor = tensorFromSentence(input_lang, sentence)\n",
        "\n",
        "        encoder_outputs, encoder_hidden = encoder(input_tensor)\n",
        "        decoder_outputs, decoder_hidden, decoder_attn = decoder(encoder_outputs, encoder_hidden)\n",
        "\n",
        "        _, topi = decoder_outputs.topk(1)\n",
        "        decoded_ids = topi.squeeze()\n",
        "\n",
        "        decoded_words = []\n",
        "        for idx in decoded_ids:\n",
        "            if idx.item() == EOS_token:\n",
        "                decoded_words.append('<EOS>')\n",
        "                break\n",
        "            decoded_words.append(output_lang.index2word[idx.item()])\n",
        "    return decoded_words, decoder_attn"
      ]
    },
    {
      "cell_type": "markdown",
      "metadata": {
        "id": "P8t1M8gwhdU9"
      },
      "source": [
        "학습 세트에 있는 임의의 문장으로 평가한 다음, 입력(input), 목표(target)\n",
        "및 출력(output) 값들을 표시하여 주관적으로 품질에 대해 판단해볼 수\n",
        "있습니다:\n"
      ]
    },
    {
      "cell_type": "code",
      "execution_count": null,
      "metadata": {
        "id": "_i0V4ekHhdU9"
      },
      "outputs": [],
      "source": [
        "def evaluateRandomly(encoder, decoder, n=10):\n",
        "    for i in range(n):\n",
        "        pair = random.choice(pairs)\n",
        "        print('>', pair[0])\n",
        "        print('=', pair[1])\n",
        "        output_words, _ = evaluate(encoder, decoder, pair[0], input_lang, output_lang)\n",
        "        output_sentence = ' '.join(output_words)\n",
        "        print('<', output_sentence)\n",
        "        print('')"
      ]
    },
    {
      "cell_type": "markdown",
      "metadata": {
        "id": "dR9WnRBehdU9"
      },
      "source": [
        "학습과 평가\n",
        "===========\n",
        "\n",
        "이러한 모든 헬퍼 함수를 이용해서 (추가 작업처럼 보이지만 여러 실험을 더\n",
        "쉽게 수행 할 수 있음) 실제로 네트워크를 초기화하고 학습을 시작할 수\n",
        "있습니다.\n",
        "\n",
        "입력 문장이 많이 필터링되었음을 기억하십시오. 이 작은 데이터 세트의 경우\n",
        "256 크기의 은닉 노드(hidden node)와 단일 GRU 계층 같은 상대적으로 작은\n",
        "네트워크를 사용할 수 있습니다. MacBook CPU에서 약 40분 후에 합리적인\n",
        "결과를 얻을 것입니다.\n",
        "\n",
        "<div style=\"background-color: #54c7ec; color: #fff; font-weight: 700; padding-left: 10px; padding-top: 5px; padding-bottom: 5px\"><strong>NOTE:</strong></div>\n",
        "<div style=\"background-color: #f3f4f7; padding-left: 10px; padding-top: 10px; padding-bottom: 10px; padding-right: 10px\">\n",
        "<p>이 노트북을 실행하면 학습, 커널 중단, 평가를 할 수 있고 나중에이어서 학습을 할 수 있습니다. 인코더와 디코더가 초기화 된 행을주석 처리하고 <code>trainIters</code> 를 다시 실행하십시오.</p>\n",
        "</div>\n"
      ]
    },
    {
      "cell_type": "code",
      "execution_count": null,
      "metadata": {
        "id": "FFqSp4sWhdU-"
      },
      "outputs": [],
      "source": [
        "hidden_size = 128\n",
        "batch_size = 32\n",
        "\n",
        "input_lang, output_lang, train_dataloader = get_dataloader(batch_size)\n",
        "\n",
        "encoder = EncoderRNN(input_lang.n_words, hidden_size).to(device)\n",
        "decoder = AttnDecoderRNN(hidden_size, output_lang.n_words).to(device)\n",
        "\n",
        "train(train_dataloader, encoder, decoder, 80, print_every=5, plot_every=5)"
      ]
    },
    {
      "cell_type": "markdown",
      "metadata": {
        "id": "dqzFZAVbhdU-"
      },
      "source": [
        "드롭아웃(dropout) 레이어들을 평가 (`eval`) 모드로 설정합니다.\n"
      ]
    },
    {
      "cell_type": "code",
      "execution_count": null,
      "metadata": {
        "id": "ontkvJbRhdU-"
      },
      "outputs": [],
      "source": [
        "encoder.eval()\n",
        "decoder.eval()\n",
        "evaluateRandomly(encoder, decoder)"
      ]
    },
    {
      "cell_type": "markdown",
      "metadata": {
        "id": "Ofu3mHKWhdU_"
      },
      "source": [
        "Attention 시각화\n",
        "================\n",
        "\n",
        "Attention 메커니즘의 유용한 속성은 하나는 해석 가능성이 높은 출력입니다.\n",
        "입력 시퀀스의 특정 인코더 출력에 가중치를 부여하는 데 사용되므로 각 시간\n",
        "단계에서 네트워크가 가장 집중되는 위치를 파악할 수 있습니다.\n",
        "\n",
        "Attention 출력을 행렬로 표시하기 위해서는 `plt.matshow(attentions)` 을\n",
        "그냥 실행해도 됩니다. 하지만 좀 더 나은 시각화를 위해 축(axis)과\n",
        "라벨(label)을 추가하는 약간의 작업을 더 해보겠습니다:\n"
      ]
    },
    {
      "cell_type": "code",
      "execution_count": null,
      "metadata": {
        "id": "JCrfdlF9hdU_"
      },
      "outputs": [],
      "source": [
        "def showAttention(input_sentence, output_words, attentions):\n",
        "    fig = plt.figure()\n",
        "    ax = fig.add_subplot(111)\n",
        "    cax = ax.matshow(attentions.cpu().numpy(), cmap='bone')\n",
        "    fig.colorbar(cax)\n",
        "\n",
        "    # 축 설정\n",
        "    ax.set_xticklabels([''] + input_sentence.split(' ') +\n",
        "                       ['<EOS>'], rotation=90)\n",
        "    ax.set_yticklabels([''] + output_words)\n",
        "\n",
        "    # 매 틱마다 라벨 보여주기\n",
        "    ax.xaxis.set_major_locator(ticker.MultipleLocator(1))\n",
        "    ax.yaxis.set_major_locator(ticker.MultipleLocator(1))\n",
        "\n",
        "    plt.show()\n",
        "\n",
        "\n",
        "def evaluateAndShowAttention(input_sentence):\n",
        "    output_words, attentions = evaluate(encoder, decoder, input_sentence, input_lang, output_lang)\n",
        "    print('input =', input_sentence)\n",
        "    print('output =', ' '.join(output_words))\n",
        "    showAttention(input_sentence, output_words, attentions[0, :len(output_words), :])\n",
        "\n",
        "\n",
        "evaluateAndShowAttention('il n est pas aussi grand que son pere')\n",
        "\n",
        "evaluateAndShowAttention('je suis trop fatigue pour conduire')\n",
        "\n",
        "evaluateAndShowAttention('je suis desole si c est une question idiote')\n",
        "\n",
        "evaluateAndShowAttention('je suis reellement fiere de vous')"
      ]
    },
    {
      "cell_type": "markdown",
      "metadata": {
        "id": "LBndALibhdU_"
      },
      "source": [
        "연습\n",
        "====\n",
        "\n",
        "-   다른 데이터 셋을 시도해 보십시오\n",
        "    -   다른 언어쌍\n",
        "    -   사람 → 기계 (e.g. IOT 명령어)\n",
        "    -   채팅 → 응답\n",
        "    -   질문 → 답변\n",
        "-   `word2vec` 또는 `GloVe` 같은 미리 학습된 word embedding 으로\n",
        "    embedding 을 교체하십시오\n",
        "-   더 많은 레이어, 은닉 유닛, 더 많은 문장을 사용하십시오. 학습 시간과\n",
        "    결과를 비교해 보십시오\n",
        "-   만약 같은 구문 두개의 쌍으로 된 번역 파일을 이용한다면,\n",
        "    (`I am test \\t I am test`), 이것을 오토인코더로 사용할 수 있습니다.\n",
        "    이것을 시도해 보십시오:\n",
        "    -   오토인코더 학습\n",
        "    -   인코더 네트워크 저장하기\n",
        "    -   그 상태에서 번역을 위한 새로운 디코더 학습\n"
      ]
    }
  ],
  "metadata": {
    "kernelspec": {
      "display_name": "Python 3",
      "name": "python3"
    },
    "language_info": {
      "codemirror_mode": {
        "name": "ipython",
        "version": 3
      },
      "file_extension": ".py",
      "mimetype": "text/x-python",
      "name": "python",
      "nbconvert_exporter": "python",
      "pygments_lexer": "ipython3",
      "version": "3.10.14"
    },
    "colab": {
      "provenance": [],
      "gpuType": "T4"
    },
    "accelerator": "GPU"
  },
  "nbformat": 4,
  "nbformat_minor": 0
}